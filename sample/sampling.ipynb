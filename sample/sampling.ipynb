{
 "cells": [
  {
   "cell_type": "code",
   "execution_count": 1,
   "id": "2794bef5",
   "metadata": {},
   "outputs": [],
   "source": [
    "# show_meta.py\n",
    "import json\n",
    "import torch\n",
    "from pathlib import Path\n",
    "\n",
    "def print_checkpoint_meta(path: str) -> dict | None:\n",
    "    \"\"\"\n",
    "    Load a checkpoint and print its 'meta' dict (if present).\n",
    "    Returns the meta dict or None.\n",
    "    \"\"\"\n",
    "    p = Path(path)\n",
    "    if not p.exists():\n",
    "        print(f\"[error] file not found: {p}\")\n",
    "        return None\n",
    "\n",
    "    ckpt = torch.load(p, map_location=\"cpu\")\n",
    "    meta = ckpt.get(\"meta\")\n",
    "    if meta is None:\n",
    "        print(\"[info] no 'meta' key found in checkpoint.\")\n",
    "        print(\"[info] top-level keys:\", list(ckpt.keys()))\n",
    "        return None\n",
    "\n",
    "    # Pretty print (handles tensors/ndarrays via str fallback)\n",
    "    def _default(o):\n",
    "        try:\n",
    "            return o.tolist()\n",
    "        except Exception:\n",
    "            return str(o)\n",
    "\n",
    "    print(\"=== Meta Data ===\")\n",
    "    print(json.dumps(meta, indent=2, default=_default))\n",
    "    return meta"
   ]
  },
  {
   "cell_type": "code",
   "execution_count": null,
   "id": "3e4b120d",
   "metadata": {},
   "outputs": [],
   "source": [
    "import os\n",
    "import numpy as np\n",
    "import pandas as pd\n",
    "import torch\n",
    "import matplotlib.pyplot as plt\n",
    "from run import run\n",
    "from helper import *\n",
    "\n",
    "device = torch.device(\"cuda\" if torch.cuda.is_available() else \"cpu\")\n",
    "\n",
    "generate_full_series(\n",
    "    checkpoint_path=\"\",\n",
    "    data_npy=\"\",\n",
    "    ma_window_size=2,\n",
    "    shift=1,\n",
    "    clip_min=-100,     # set None to disable\n",
    "    clip_max=100,      # set None to disable\n",
    "    seed=42,\n",
    "    device=torch.device(\"cuda\" if torch.cuda.is_available() else \"cpu\"),\n",
    "    plot_result=True,\n",
    "    save_path=f\"\",\n",
    ")"
   ]
  },
  {
   "cell_type": "code",
   "execution_count": null,
   "id": "6fb83599",
   "metadata": {},
   "outputs": [],
   "source": []
  }
 ],
 "metadata": {
  "kernelspec": {
   "display_name": ".venv (3.10.12)",
   "language": "python",
   "name": "python3"
  },
  "language_info": {
   "codemirror_mode": {
    "name": "ipython",
    "version": 3
   },
   "file_extension": ".py",
   "mimetype": "text/x-python",
   "name": "python",
   "nbconvert_exporter": "python",
   "pygments_lexer": "ipython3",
   "version": "3.10.12"
  }
 },
 "nbformat": 4,
 "nbformat_minor": 5
}
